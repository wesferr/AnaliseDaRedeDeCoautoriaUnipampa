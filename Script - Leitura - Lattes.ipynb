{
 "cells": [
  {
   "cell_type": "code",
   "execution_count": 23,
   "metadata": {},
   "outputs": [],
   "source": [
    "import pandas as pd\n",
    "import numpy as np\n",
    "import re\n",
    "data = ['PB-0.html', 'PB-1.html', 'PB-2.html', 'PB-3.html', 'PB-4.html', 'PB-5.html','PB-6.html', 'PB-7.html','PB-8.html', 'PB-9.html', 'PB-10.html','PB-11.html', 'PB-12.html']\n",
    "for i in data:\n",
    "    dataSet = str(open(i, \"r\",encoding=\"utf8\").read())\n",
    "    data_Set += re.findall('<b>(\\w.*)</b>', dataSet, re.M|re.I)"
   ]
  },
  {
   "cell_type": "code",
   "execution_count": null,
   "metadata": {},
   "outputs": [],
   "source": []
  }
 ],
 "metadata": {
  "kernelspec": {
   "display_name": "Python 3",
   "language": "python",
   "name": "python3"
  },
  "language_info": {
   "codemirror_mode": {
    "name": "ipython",
    "version": 3
   },
   "file_extension": ".py",
   "mimetype": "text/x-python",
   "name": "python",
   "nbconvert_exporter": "python",
   "pygments_lexer": "ipython3",
   "version": "3.6.5"
  }
 },
 "nbformat": 4,
 "nbformat_minor": 2
}
